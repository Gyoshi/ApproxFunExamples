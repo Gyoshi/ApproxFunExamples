{
 "cells": [
  {
   "cell_type": "markdown",
   "metadata": {},
   "source": [
    "Consider the n-dimensional linear system of ordinary differential equations:\n",
    "$$x'(t)=A(t)x(t)$$\n",
    "where in addition, the matrix $A(t)$ is periodic with period $T$, i.e. $A(t+T)=A(t)$ for all real values of $t$.\n",
    "Let $Φ(t)$ denote the principal fundamental matrix solution such that the columns\n",
    "of $Φ(t)$ are linearly independent, and $Φ(0)=I$. Then, Floquet's theorem decomposes the principal\n",
    "fundamental matrix as the product of a periodic matrix $P(t)$ with period $T$ and an exponential matrix $e^{tB}$.\n",
    "\n"
   ]
  },
  {
   "cell_type": "code",
   "execution_count": 1,
   "metadata": {
    "scrolled": true
   },
   "outputs": [
    {
     "name": "stderr",
     "output_type": "stream",
     "text": [
      "WARNING: Method definition midpoints(Base.Range{T} where T) in module Base at deprecated.jl:56 overwritten in module StatsBase at /Users/solver/.julia/v0.6/StatsBase/src/hist.jl:535.\n",
      "WARNING: Method definition midpoints(AbstractArray{T, 1} where T) in module Base at deprecated.jl:56 overwritten in module StatsBase at /Users/solver/.julia/v0.6/StatsBase/src/hist.jl:533.\n"
     ]
    }
   ],
   "source": [
    "using Plots, ApproxFun"
   ]
  },
  {
   "cell_type": "code",
   "execution_count": 2,
   "metadata": {
    "collapsed": true
   },
   "outputs": [],
   "source": [
    "function Base.expm(A::Matrix{T}, f::Fun) where {T<:Number}\n",
    "    D,V = eig(A)\n",
    "    fC = D == real(D) ? fill(f,n) : fill(f+0im,n)\n",
    "    for i = 1:length(D)\n",
    "        fC[i] = Fun(t->exp(D[i]*fC[i](t)),domain(f))\n",
    "    end\n",
    "    V*diagm(fC)*inv(V)\n",
    "end;"
   ]
  },
  {
   "cell_type": "markdown",
   "metadata": {},
   "source": [
    "Consider the system of coupled harmonic oscillators with periodic parameterized excitation:\n",
    "     $$x'' + (1+a \\cos(2t))x = x-y$$\n",
    "     $$y'' + (1+a \\cos(2t))y = y-x$$\n",
    "We calculate the Principal Fundamental Matrix $Φ$."
   ]
  },
  {
   "cell_type": "code",
   "execution_count": 3,
   "metadata": {
    "collapsed": true,
    "scrolled": false
   },
   "outputs": [],
   "source": [
    "T = π; a=0.15\n",
    "t = Fun(identity,0..T)\n",
    "d=domain(t)\n",
    "D=Derivative(d)\n",
    "B=ldirichlet(d)\n",
    "n=4\n",
    "A=[ Operator(diagm(fill(ldirichlet(d),n)));\n",
    "    D             -I  0I            0I;\n",
    "   (2+a*cos(2t))   D  -I            0I;\n",
    "   0I             0I   D            -I;\n",
    "   -I             0I  (2+a*cos(2t))  D]\n",
    "\n",
    "# we need eye(n) for the initial condition and zeros(n,n) for the\n",
    "# right-hand side of the ODE\n",
    "\n",
    "Φ = A\\eye(2n,n);  "
   ]
  },
  {
   "cell_type": "markdown",
   "metadata": {},
   "source": [
    "It can be further expressed as $Φ(t) = P(t) e^{tB}$ where $P(t)$ is a periodic matrix, and $B$ is constant.\n",
    "Using the values of $Φ(T)$:"
   ]
  },
  {
   "cell_type": "code",
   "execution_count": 4,
   "metadata": {},
   "outputs": [
    {
     "data": {
      "text/plain": [
       "4×4 Array{Float64,2}:\n",
       " -0.170879  -0.148885  -0.836059   0.265569\n",
       "  0.732284  -0.170879  -0.612945  -0.836059\n",
       " -0.836059   0.265569  -0.170879  -0.148885\n",
       " -0.612945  -0.836059   0.732284  -0.170879"
      ]
     },
     "execution_count": 4,
     "metadata": {},
     "output_type": "execute_result"
    }
   ],
   "source": [
    "ΦT = Φ(T)"
   ]
  },
  {
   "cell_type": "markdown",
   "metadata": {},
   "source": [
    "we calculate the matrix $B$ and the Floquet exponents and multipliers."
   ]
  },
  {
   "cell_type": "code",
   "execution_count": 5,
   "metadata": {
    "scrolled": false
   },
   "outputs": [
    {
     "name": "stdout",
     "output_type": "stream",
     "text": [
      "Floquet Exponents = \n",
      "\n",
      "3.885780586188048e-16 - 0.2683546905319055im\n",
      "2.0995575070181793e-16 + 0.26835469053190514im\n",
      "-0.037475319732289195 + 0.9999999999999997im\n",
      "0.037475319732289236 + 0.9999999999999999im\n",
      "\n",
      "Floquet Multipliers = \n",
      "\n",
      "0.6651802570066608 - 0.7466828146465907im\n",
      "0.6651802570066614 + 0.7466828146465896im\n",
      "-0.8889340869219555 + 8.98395100960111e-16im\n",
      "-1.1249427991479368 + 6.373407186201634e-16im\n"
     ]
    }
   ],
   "source": [
    "B = logm(ΦT)/T\n",
    "D,V = eig(B)\n",
    "\n",
    "println(\"Floquet Exponents = \\n\")\n",
    "[println(D[i]) for i=1:n]\n",
    "println(\"\\nFloquet Multipliers = \\n\")\n",
    "[println(exp(D[i]*T)) for i=1:n];"
   ]
  },
  {
   "cell_type": "markdown",
   "metadata": {},
   "source": [
    "We can build the matrix exponential $e^{-tB}$ and use it to find the periodic matrix $P(t)$.\n",
    "Periodicity is numerically confirmed by `Fun` instantiation with low number of coefficients."
   ]
  },
  {
   "cell_type": "code",
   "execution_count": 6,
   "metadata": {},
   "outputs": [
    {
     "data": {
      "text/plain": [
       "223"
      ]
     },
     "execution_count": 6,
     "metadata": {},
     "output_type": "execute_result"
    }
   ],
   "source": [
    "PI = Φ*expm(B,-t)\n",
    "P = Fun(t->PI(t),PeriodicInterval(d))\n",
    "P|>ncoefficients"
   ]
  },
  {
   "cell_type": "markdown",
   "metadata": {},
   "source": [
    "With the matrix B and the periodic matrix P(t), we can construct \n",
    "the solution with any initial conditions for as long as we want!"
   ]
  },
  {
   "cell_type": "code",
   "execution_count": 7,
   "metadata": {},
   "outputs": [
    {
     "data": {
      "text/html": [
       "<?xml version=\"1.0\" encoding=\"utf-8\"?>\n",
       "<svg xmlns=\"http://www.w3.org/2000/svg\" xmlns:xlink=\"http://www.w3.org/1999/xlink\" width=\"600\" height=\"400\" viewBox=\"0 0 600 400\">\n",
       "<defs>\n",
       "  <clipPath id=\"clip7000\">\n",
       "    <rect x=\"0\" y=\"0\" width=\"600\" height=\"400\"/>\n",
       "  </clipPath>\n",
       "</defs>\n",
       "<polygon clip-path=\"url(#clip7000)\" points=\"\n",
       "0,400 600,400 600,0 0,0 \n",
       "  \" fill=\"#ffffff\" fill-opacity=\"1\"/>\n",
       "<defs>\n",
       "  <clipPath id=\"clip7001\">\n",
       "    <rect x=\"120\" y=\"0\" width=\"421\" height=\"400\"/>\n",
       "  </clipPath>\n",
       "</defs>\n",
       "<polygon clip-path=\"url(#clip7000)\" points=\"\n",
       "46.1926,375.869 580.315,375.869 580.315,11.811 46.1926,11.811 \n",
       "  \" fill=\"#ffffff\" fill-opacity=\"1\"/>\n",
       "<defs>\n",
       "  <clipPath id=\"clip7002\">\n",
       "    <rect x=\"46\" y=\"11\" width=\"535\" height=\"365\"/>\n",
       "  </clipPath>\n",
       "</defs>\n",
       "<polyline clip-path=\"url(#clip7002)\" style=\"stroke:#000000; stroke-width:0.5; stroke-opacity:0.1; fill:none\" points=\"\n",
       "  95.0207,375.869 95.0207,11.811 \n",
       "  \"/>\n",
       "<polyline clip-path=\"url(#clip7002)\" style=\"stroke:#000000; stroke-width:0.5; stroke-opacity:0.1; fill:none\" points=\"\n",
       "  203.246,375.869 203.246,11.811 \n",
       "  \"/>\n",
       "<polyline clip-path=\"url(#clip7002)\" style=\"stroke:#000000; stroke-width:0.5; stroke-opacity:0.1; fill:none\" points=\"\n",
       "  311.471,375.869 311.471,11.811 \n",
       "  \"/>\n",
       "<polyline clip-path=\"url(#clip7002)\" style=\"stroke:#000000; stroke-width:0.5; stroke-opacity:0.1; fill:none\" points=\"\n",
       "  419.696,375.869 419.696,11.811 \n",
       "  \"/>\n",
       "<polyline clip-path=\"url(#clip7002)\" style=\"stroke:#000000; stroke-width:0.5; stroke-opacity:0.1; fill:none\" points=\"\n",
       "  527.922,375.869 527.922,11.811 \n",
       "  \"/>\n",
       "<polyline clip-path=\"url(#clip7002)\" style=\"stroke:#000000; stroke-width:0.5; stroke-opacity:0.1; fill:none\" points=\"\n",
       "  46.1926,346.235 580.315,346.235 \n",
       "  \"/>\n",
       "<polyline clip-path=\"url(#clip7002)\" style=\"stroke:#000000; stroke-width:0.5; stroke-opacity:0.1; fill:none\" points=\"\n",
       "  46.1926,297.522 580.315,297.522 \n",
       "  \"/>\n",
       "<polyline clip-path=\"url(#clip7002)\" style=\"stroke:#000000; stroke-width:0.5; stroke-opacity:0.1; fill:none\" points=\"\n",
       "  46.1926,248.809 580.315,248.809 \n",
       "  \"/>\n",
       "<polyline clip-path=\"url(#clip7002)\" style=\"stroke:#000000; stroke-width:0.5; stroke-opacity:0.1; fill:none\" points=\"\n",
       "  46.1926,200.096 580.315,200.096 \n",
       "  \"/>\n",
       "<polyline clip-path=\"url(#clip7002)\" style=\"stroke:#000000; stroke-width:0.5; stroke-opacity:0.1; fill:none\" points=\"\n",
       "  46.1926,151.383 580.315,151.383 \n",
       "  \"/>\n",
       "<polyline clip-path=\"url(#clip7002)\" style=\"stroke:#000000; stroke-width:0.5; stroke-opacity:0.1; fill:none\" points=\"\n",
       "  46.1926,102.67 580.315,102.67 \n",
       "  \"/>\n",
       "<polyline clip-path=\"url(#clip7002)\" style=\"stroke:#000000; stroke-width:0.5; stroke-opacity:0.1; fill:none\" points=\"\n",
       "  46.1926,53.9567 580.315,53.9567 \n",
       "  \"/>\n",
       "<polyline clip-path=\"url(#clip7000)\" style=\"stroke:#000000; stroke-width:1; stroke-opacity:1; fill:none\" points=\"\n",
       "  46.1926,375.869 580.315,375.869 \n",
       "  \"/>\n",
       "<polyline clip-path=\"url(#clip7000)\" style=\"stroke:#000000; stroke-width:1; stroke-opacity:1; fill:none\" points=\"\n",
       "  46.1926,375.869 46.1926,11.811 \n",
       "  \"/>\n",
       "<polyline clip-path=\"url(#clip7000)\" style=\"stroke:#000000; stroke-width:1; stroke-opacity:1; fill:none\" points=\"\n",
       "  95.0207,375.869 95.0207,370.408 \n",
       "  \"/>\n",
       "<polyline clip-path=\"url(#clip7000)\" style=\"stroke:#000000; stroke-width:1; stroke-opacity:1; fill:none\" points=\"\n",
       "  203.246,375.869 203.246,370.408 \n",
       "  \"/>\n",
       "<polyline clip-path=\"url(#clip7000)\" style=\"stroke:#000000; stroke-width:1; stroke-opacity:1; fill:none\" points=\"\n",
       "  311.471,375.869 311.471,370.408 \n",
       "  \"/>\n",
       "<polyline clip-path=\"url(#clip7000)\" style=\"stroke:#000000; stroke-width:1; stroke-opacity:1; fill:none\" points=\"\n",
       "  419.696,375.869 419.696,370.408 \n",
       "  \"/>\n",
       "<polyline clip-path=\"url(#clip7000)\" style=\"stroke:#000000; stroke-width:1; stroke-opacity:1; fill:none\" points=\"\n",
       "  527.922,375.869 527.922,370.408 \n",
       "  \"/>\n",
       "<polyline clip-path=\"url(#clip7000)\" style=\"stroke:#000000; stroke-width:1; stroke-opacity:1; fill:none\" points=\"\n",
       "  46.1926,346.235 54.2044,346.235 \n",
       "  \"/>\n",
       "<polyline clip-path=\"url(#clip7000)\" style=\"stroke:#000000; stroke-width:1; stroke-opacity:1; fill:none\" points=\"\n",
       "  46.1926,297.522 54.2044,297.522 \n",
       "  \"/>\n",
       "<polyline clip-path=\"url(#clip7000)\" style=\"stroke:#000000; stroke-width:1; stroke-opacity:1; fill:none\" points=\"\n",
       "  46.1926,248.809 54.2044,248.809 \n",
       "  \"/>\n",
       "<polyline clip-path=\"url(#clip7000)\" style=\"stroke:#000000; stroke-width:1; stroke-opacity:1; fill:none\" points=\"\n",
       "  46.1926,200.096 54.2044,200.096 \n",
       "  \"/>\n",
       "<polyline clip-path=\"url(#clip7000)\" style=\"stroke:#000000; stroke-width:1; stroke-opacity:1; fill:none\" points=\"\n",
       "  46.1926,151.383 54.2044,151.383 \n",
       "  \"/>\n",
       "<polyline clip-path=\"url(#clip7000)\" style=\"stroke:#000000; stroke-width:1; stroke-opacity:1; fill:none\" points=\"\n",
       "  46.1926,102.67 54.2044,102.67 \n",
       "  \"/>\n",
       "<polyline clip-path=\"url(#clip7000)\" style=\"stroke:#000000; stroke-width:1; stroke-opacity:1; fill:none\" points=\"\n",
       "  46.1926,53.9567 54.2044,53.9567 \n",
       "  \"/>\n",
       "<g clip-path=\"url(#clip7000)\">\n",
       "<text style=\"fill:#000000; fill-opacity:1; font-family:Arial,Helvetica Neue,Helvetica,sans-serif; font-size:12; text-anchor:middle;\" transform=\"rotate(0, 95.0207, 389.669)\" x=\"95.0207\" y=\"389.669\">-4</text>\n",
       "</g>\n",
       "<g clip-path=\"url(#clip7000)\">\n",
       "<text style=\"fill:#000000; fill-opacity:1; font-family:Arial,Helvetica Neue,Helvetica,sans-serif; font-size:12; text-anchor:middle;\" transform=\"rotate(0, 203.246, 389.669)\" x=\"203.246\" y=\"389.669\">-2</text>\n",
       "</g>\n",
       "<g clip-path=\"url(#clip7000)\">\n",
       "<text style=\"fill:#000000; fill-opacity:1; font-family:Arial,Helvetica Neue,Helvetica,sans-serif; font-size:12; text-anchor:middle;\" transform=\"rotate(0, 311.471, 389.669)\" x=\"311.471\" y=\"389.669\">0</text>\n",
       "</g>\n",
       "<g clip-path=\"url(#clip7000)\">\n",
       "<text style=\"fill:#000000; fill-opacity:1; font-family:Arial,Helvetica Neue,Helvetica,sans-serif; font-size:12; text-anchor:middle;\" transform=\"rotate(0, 419.696, 389.669)\" x=\"419.696\" y=\"389.669\">2</text>\n",
       "</g>\n",
       "<g clip-path=\"url(#clip7000)\">\n",
       "<text style=\"fill:#000000; fill-opacity:1; font-family:Arial,Helvetica Neue,Helvetica,sans-serif; font-size:12; text-anchor:middle;\" transform=\"rotate(0, 527.922, 389.669)\" x=\"527.922\" y=\"389.669\">4</text>\n",
       "</g>\n",
       "<g clip-path=\"url(#clip7000)\">\n",
       "<text style=\"fill:#000000; fill-opacity:1; font-family:Arial,Helvetica Neue,Helvetica,sans-serif; font-size:12; text-anchor:end;\" transform=\"rotate(0, 40.1926, 350.735)\" x=\"40.1926\" y=\"350.735\">-0.75</text>\n",
       "</g>\n",
       "<g clip-path=\"url(#clip7000)\">\n",
       "<text style=\"fill:#000000; fill-opacity:1; font-family:Arial,Helvetica Neue,Helvetica,sans-serif; font-size:12; text-anchor:end;\" transform=\"rotate(0, 40.1926, 302.022)\" x=\"40.1926\" y=\"302.022\">-0.50</text>\n",
       "</g>\n",
       "<g clip-path=\"url(#clip7000)\">\n",
       "<text style=\"fill:#000000; fill-opacity:1; font-family:Arial,Helvetica Neue,Helvetica,sans-serif; font-size:12; text-anchor:end;\" transform=\"rotate(0, 40.1926, 253.309)\" x=\"40.1926\" y=\"253.309\">-0.25</text>\n",
       "</g>\n",
       "<g clip-path=\"url(#clip7000)\">\n",
       "<text style=\"fill:#000000; fill-opacity:1; font-family:Arial,Helvetica Neue,Helvetica,sans-serif; font-size:12; text-anchor:end;\" transform=\"rotate(0, 40.1926, 204.596)\" x=\"40.1926\" y=\"204.596\">0.00</text>\n",
       "</g>\n",
       "<g clip-path=\"url(#clip7000)\">\n",
       "<text style=\"fill:#000000; fill-opacity:1; font-family:Arial,Helvetica Neue,Helvetica,sans-serif; font-size:12; text-anchor:end;\" transform=\"rotate(0, 40.1926, 155.883)\" x=\"40.1926\" y=\"155.883\">0.25</text>\n",
       "</g>\n",
       "<g clip-path=\"url(#clip7000)\">\n",
       "<text style=\"fill:#000000; fill-opacity:1; font-family:Arial,Helvetica Neue,Helvetica,sans-serif; font-size:12; text-anchor:end;\" transform=\"rotate(0, 40.1926, 107.17)\" x=\"40.1926\" y=\"107.17\">0.50</text>\n",
       "</g>\n",
       "<g clip-path=\"url(#clip7000)\">\n",
       "<text style=\"fill:#000000; fill-opacity:1; font-family:Arial,Helvetica Neue,Helvetica,sans-serif; font-size:12; text-anchor:end;\" transform=\"rotate(0, 40.1926, 58.4567)\" x=\"40.1926\" y=\"58.4567\">0.75</text>\n",
       "</g>\n",
       "<polyline clip-path=\"url(#clip7002)\" style=\"stroke:#009af9; stroke-width:1; stroke-opacity:1; fill:none\" points=\"\n",
       "  46.1926,200.096 95.0558,200.096 124.421,200.096 149.248,200.096 176.218,200.096 201.081,200.096 227.738,200.096 258.622,200.096 272.345,200.096 286.068,200.096 \n",
       "  292.085,200.096 298.102,200.096 301.11,200.096 304.119,200.096 305.623,200.096 307.127,200.096 307.879,200.096 308.632,200.096 309.384,200.096 310.136,200.096 \n",
       "  310.546,200.096 310.956,200.096 311.161,200.096 311.366,200.096 311.571,42.9758 311.776,42.7857 311.981,42.5994 312.186,42.4169 312.391,42.2382 312.596,42.0633 \n",
       "  313.006,41.7251 313.416,41.4023 315.056,40.2653 316.696,39.3766 319.976,38.3492 323.256,38.3241 326.536,39.2962 329.816,41.2514 333.096,44.1667 336.376,48.011 \n",
       "  339.676,52.7761 342.975,58.3954 346.275,64.8155 349.574,71.9777 352.874,79.8185 356.173,88.2704 359.473,97.2629 362.773,106.723 377.365,152.266 391.957,199.203 \n",
       "  398.899,220.352 405.841,240.014 412.783,257.747 419.725,273.186 423.334,280.209 426.943,286.505 430.553,292.049 434.162,296.825 437.771,300.824 441.38,304.042 \n",
       "  444.989,306.485 448.598,308.165 454.674,309.323 460.75,308.509 466.826,305.908 472.903,301.749 480.321,294.945 487.739,286.735 495.157,277.655 502.576,268.213 \n",
       "  509.549,259.41 516.522,250.988 523.496,243.165 530.469,236.066 541.641,226.254 552.813,218.046 563.985,210.691 575.157,203.187 576.876,201.951 578.596,200.683 \n",
       "  580.315,199.379 \n",
       "  \"/>\n",
       "<polyline clip-path=\"url(#clip7002)\" style=\"stroke:#e26f46; stroke-width:1; stroke-opacity:1; fill:none\" points=\"\n",
       "  46.1926,200.096 95.0558,200.096 124.421,200.096 149.248,200.096 176.218,200.096 201.081,200.096 227.738,200.096 258.622,200.096 272.345,200.096 286.068,200.096 \n",
       "  292.085,200.096 298.102,200.096 301.11,200.096 304.119,200.096 307.127,200.096 310.136,200.096 310.546,200.096 310.956,200.096 311.161,200.096 311.366,200.096 \n",
       "  311.571,149.406 311.776,150.411 311.981,151.418 312.186,152.426 312.391,153.436 312.596,154.447 313.006,156.472 313.416,158.503 315.056,166.668 316.696,174.888 \n",
       "  319.976,191.416 323.256,207.935 329.816,240.345 336.376,270.977 339.676,285.385 342.975,298.973 346.275,311.639 349.574,323.301 352.874,333.885 356.173,343.336 \n",
       "  359.473,351.611 362.773,358.681 366.421,365.076 370.069,369.973 373.717,373.386 377.365,375.338 381.013,375.869 384.661,375.027 388.309,372.869 391.957,369.461 \n",
       "  395.428,365.122 398.899,359.78 402.37,353.504 405.841,346.365 409.312,338.438 412.783,329.8 416.254,320.53 419.725,310.711 434.162,265.895 448.598,219.638 \n",
       "  454.674,201.389 460.75,184.575 466.826,169.622 472.903,156.882 476.612,150.306 480.321,144.688 484.03,140.049 487.739,136.392 491.448,133.702 495.157,131.949 \n",
       "  498.867,131.083 502.576,131.043 509.549,132.926 516.522,136.842 523.496,142.099 530.469,147.969 541.641,156.909 552.813,163.145 558.399,164.678 563.985,164.97 \n",
       "  569.571,163.963 575.157,161.669 576.876,160.713 578.596,159.647 580.315,158.473 \n",
       "  \"/>\n",
       "<polyline clip-path=\"url(#clip7002)\" style=\"stroke:#3da44d; stroke-width:1; stroke-opacity:1; fill:none\" points=\"\n",
       "  46.1926,200.096 95.0558,200.096 124.421,200.096 149.248,200.096 176.218,200.096 201.081,200.096 227.738,200.096 258.622,200.096 272.345,200.096 286.068,200.096 \n",
       "  292.085,200.096 298.102,200.096 301.11,200.096 304.119,200.096 305.623,200.096 307.127,200.096 307.879,200.096 308.632,200.096 309.384,200.096 310.136,200.096 \n",
       "  310.546,200.096 310.956,200.096 311.161,200.096 311.366,200.096 311.571,127.46 311.776,127.438 311.981,127.417 312.186,127.395 312.391,127.373 312.596,127.352 \n",
       "  313.006,127.308 313.416,127.264 315.056,127.089 316.696,126.91 319.976,126.543 323.256,126.16 329.816,125.358 336.376,124.551 349.574,123.34 362.773,123.785 \n",
       "  370.069,125.34 377.365,128.204 384.661,132.66 391.957,138.958 395.428,142.659 398.899,146.838 402.37,151.505 405.841,156.668 409.312,162.326 412.783,168.475 \n",
       "  416.254,175.105 419.725,182.199 426.943,198.326 434.162,216.04 441.38,234.906 448.598,254.365 454.674,270.725 460.75,286.606 466.826,301.554 472.903,315.115 \n",
       "  476.612,322.524 480.321,329.161 484.03,334.94 487.739,339.786 491.448,343.631 495.157,346.42 498.867,348.11 502.576,348.668 506.062,348.145 509.549,346.601 \n",
       "  513.036,344.042 516.522,340.481 520.009,335.943 523.496,330.459 526.983,324.072 530.469,316.827 536.055,303.574 541.641,288.519 547.227,271.945 552.813,254.162 \n",
       "  563.985,216.278 575.157,177.571 576.876,171.716 578.596,165.917 580.315,160.182 \n",
       "  \"/>\n",
       "<polyline clip-path=\"url(#clip7002)\" style=\"stroke:#c271d2; stroke-width:1; stroke-opacity:1; fill:none\" points=\"\n",
       "  46.1926,200.096 95.0558,200.096 124.421,200.096 149.248,200.096 176.218,200.096 201.081,200.096 227.738,200.096 258.622,200.096 272.345,200.096 286.068,200.096 \n",
       "  292.085,200.096 298.102,200.096 301.11,200.096 304.119,200.096 307.127,200.096 310.136,200.096 310.546,200.096 310.956,200.096 311.161,200.096 311.366,200.096 \n",
       "  311.571,194.383 311.776,194.379 312.596,194.358 313.416,194.329 315.056,194.252 316.696,194.152 319.976,193.914 323.256,193.667 329.816,193.36 336.376,193.646 \n",
       "  342.975,194.912 349.574,197.489 356.173,201.631 362.773,207.509 366.421,211.535 370.069,216.118 373.717,221.248 377.365,226.907 384.661,239.696 391.957,254.155 \n",
       "  405.841,284.442 419.725,314.193 423.334,321.09 426.943,327.411 430.553,333.032 434.162,337.835 437.771,341.7 441.38,344.517 444.989,346.184 448.598,346.611 \n",
       "  451.636,345.952 454.674,344.322 457.712,341.695 460.75,338.054 463.788,333.39 466.826,327.71 469.864,321.03 472.903,313.376 476.612,302.769 480.321,290.864 \n",
       "  484.03,277.776 487.739,263.64 495.157,232.856 502.576,199.887 509.549,168.229 516.522,137.175 520.009,122.236 523.496,107.865 526.983,94.1807 530.469,81.2926 \n",
       "  533.262,71.6085 536.055,62.5417 538.848,54.1319 541.641,46.4138 544.434,39.418 547.227,33.1706 550.02,27.6938 552.813,23.0058 555.606,19.1216 558.399,16.0529 \n",
       "  561.192,13.8081 563.985,12.3932 566.778,11.811 569.571,12.0621 572.364,13.1441 575.157,15.0525 576.876,16.635 578.596,18.5256 580.315,20.7216 \n",
       "  \"/>\n",
       "<polygon clip-path=\"url(#clip7000)\" points=\"\n",
       "489.608,108.291 562.315,108.291 562.315,32.691 489.608,32.691 \n",
       "  \" fill=\"#ffffff\" fill-opacity=\"1\"/>\n",
       "<polyline clip-path=\"url(#clip7000)\" style=\"stroke:#000000; stroke-width:1; stroke-opacity:1; fill:none\" points=\"\n",
       "  489.608,108.291 562.315,108.291 562.315,32.691 489.608,32.691 489.608,108.291 \n",
       "  \"/>\n",
       "<polyline clip-path=\"url(#clip7000)\" style=\"stroke:#009af9; stroke-width:1; stroke-opacity:1; fill:none\" points=\"\n",
       "  495.608,47.811 531.608,47.811 \n",
       "  \"/>\n",
       "<g clip-path=\"url(#clip7000)\">\n",
       "<text style=\"fill:#000000; fill-opacity:1; font-family:Arial,Helvetica Neue,Helvetica,sans-serif; font-size:12; text-anchor:start;\" transform=\"rotate(0, 537.608, 52.311)\" x=\"537.608\" y=\"52.311\">y1</text>\n",
       "</g>\n",
       "<polyline clip-path=\"url(#clip7000)\" style=\"stroke:#e26f46; stroke-width:1; stroke-opacity:1; fill:none\" points=\"\n",
       "  495.608,62.931 531.608,62.931 \n",
       "  \"/>\n",
       "<g clip-path=\"url(#clip7000)\">\n",
       "<text style=\"fill:#000000; fill-opacity:1; font-family:Arial,Helvetica Neue,Helvetica,sans-serif; font-size:12; text-anchor:start;\" transform=\"rotate(0, 537.608, 67.431)\" x=\"537.608\" y=\"67.431\">y2</text>\n",
       "</g>\n",
       "<polyline clip-path=\"url(#clip7000)\" style=\"stroke:#3da44d; stroke-width:1; stroke-opacity:1; fill:none\" points=\"\n",
       "  495.608,78.051 531.608,78.051 \n",
       "  \"/>\n",
       "<g clip-path=\"url(#clip7000)\">\n",
       "<text style=\"fill:#000000; fill-opacity:1; font-family:Arial,Helvetica Neue,Helvetica,sans-serif; font-size:12; text-anchor:start;\" transform=\"rotate(0, 537.608, 82.551)\" x=\"537.608\" y=\"82.551\">y3</text>\n",
       "</g>\n",
       "<polyline clip-path=\"url(#clip7000)\" style=\"stroke:#c271d2; stroke-width:1; stroke-opacity:1; fill:none\" points=\"\n",
       "  495.608,93.171 531.608,93.171 \n",
       "  \"/>\n",
       "<g clip-path=\"url(#clip7000)\">\n",
       "<text style=\"fill:#000000; fill-opacity:1; font-family:Arial,Helvetica Neue,Helvetica,sans-serif; font-size:12; text-anchor:start;\" transform=\"rotate(0, 537.608, 97.671)\" x=\"537.608\" y=\"97.671\">y4</text>\n",
       "</g>\n",
       "</svg>\n"
      ]
     },
     "execution_count": 7,
     "metadata": {},
     "output_type": "execute_result"
    }
   ],
   "source": [
    "t = Fun(identity,0..10T)\n",
    "d = domain(t)\n",
    "x0 = rand(n)\n",
    "\n",
    "PI = Fun(t->P(t),d)\n",
    "xsol = real(PI*expm(B,t)*x0)\n",
    "\n",
    "plot(xsol)"
   ]
  }
 ],
 "metadata": {
  "anaconda-cloud": {},
  "kernelspec": {
   "display_name": "Julia 0.6.2",
   "language": "julia",
   "name": "julia-0.6"
  },
  "language_info": {
   "file_extension": ".jl",
   "mimetype": "application/julia",
   "name": "julia",
   "version": "0.6.2"
  }
 },
 "nbformat": 4,
 "nbformat_minor": 1
}
