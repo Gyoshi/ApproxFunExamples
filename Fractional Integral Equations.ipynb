{
 "cells": [
  {
   "cell_type": "code",
   "execution_count": 1,
   "metadata": {
    "collapsed": true
   },
   "outputs": [],
   "source": [
    "using Plots, ApproxFun"
   ]
  },
  {
   "cell_type": "markdown",
   "metadata": {},
   "source": [
    "We demonstrate numerical solution of the examples in [Hale & Olver 2016]:\n",
    "\n",
    "##### Example 1\n",
    "\n",
    "$$y(x) + {}_{-1} {\\cal Q}_x^{1/2} y(x) = 1$$"
   ]
  },
  {
   "cell_type": "code",
   "execution_count": 2,
   "metadata": {},
   "outputs": [
    {
     "data": {
      "text/html": [
       "<?xml version=\"1.0\" encoding=\"utf-8\"?>\n",
       "<svg xmlns=\"http://www.w3.org/2000/svg\" xmlns:xlink=\"http://www.w3.org/1999/xlink\" width=\"600\" height=\"400\" viewBox=\"0 0 600 400\">\n",
       "<defs>\n",
       "  <clipPath id=\"clip00\">\n",
       "    <rect x=\"0\" y=\"0\" width=\"600\" height=\"400\"/>\n",
       "  </clipPath>\n",
       "</defs>\n",
       "<polygon clip-path=\"url(#clip00)\" points=\"\n",
       "0,400 600,400 600,0 0,0 \n",
       "  \" fill=\"#ffffff\" fill-opacity=\"1\"/>\n",
       "<defs>\n",
       "  <clipPath id=\"clip01\">\n",
       "    <rect x=\"120\" y=\"0\" width=\"421\" height=\"400\"/>\n",
       "  </clipPath>\n",
       "</defs>\n",
       "<polygon clip-path=\"url(#clip00)\" points=\"\n",
       "39.3701,376.378 592.126,376.378 592.126,7.87402 39.3701,7.87402 \n",
       "  \" fill=\"#ffffff\" fill-opacity=\"1\"/>\n",
       "<defs>\n",
       "  <clipPath id=\"clip02\">\n",
       "    <rect x=\"39\" y=\"7\" width=\"554\" height=\"370\"/>\n",
       "  </clipPath>\n",
       "</defs>\n",
       "<polyline clip-path=\"url(#clip02)\" style=\"stroke:#000000; stroke-width:1; stroke-opacity:0.5; fill:none\" stroke-dasharray=\"1, 2\" points=\"\n",
       "  177.552,370.85 177.552,13.4016 \n",
       "  \"/>\n",
       "<polyline clip-path=\"url(#clip02)\" style=\"stroke:#000000; stroke-width:1; stroke-opacity:0.5; fill:none\" stroke-dasharray=\"1, 2\" points=\"\n",
       "  315.748,370.85 315.748,13.4016 \n",
       "  \"/>\n",
       "<polyline clip-path=\"url(#clip02)\" style=\"stroke:#000000; stroke-width:1; stroke-opacity:0.5; fill:none\" stroke-dasharray=\"1, 2\" points=\"\n",
       "  453.944,370.85 453.944,13.4016 \n",
       "  \"/>\n",
       "<polyline clip-path=\"url(#clip02)\" style=\"stroke:#000000; stroke-width:1; stroke-opacity:0.5; fill:none\" stroke-dasharray=\"1, 2\" points=\"\n",
       "  47.6614,284.312 583.835,284.312 \n",
       "  \"/>\n",
       "<polyline clip-path=\"url(#clip02)\" style=\"stroke:#000000; stroke-width:1; stroke-opacity:0.5; fill:none\" stroke-dasharray=\"1, 2\" points=\"\n",
       "  47.6614,143.791 583.835,143.791 \n",
       "  \"/>\n",
       "<polyline clip-path=\"url(#clip00)\" style=\"stroke:#000000; stroke-width:1; stroke-opacity:1; fill:none\" points=\"\n",
       "  39.3701,376.378 592.126,376.378 \n",
       "  \"/>\n",
       "<polyline clip-path=\"url(#clip00)\" style=\"stroke:#000000; stroke-width:1; stroke-opacity:1; fill:none\" points=\"\n",
       "  177.552,376.378 177.552,370.85 \n",
       "  \"/>\n",
       "<polyline clip-path=\"url(#clip00)\" style=\"stroke:#000000; stroke-width:1; stroke-opacity:1; fill:none\" points=\"\n",
       "  315.748,376.378 315.748,370.85 \n",
       "  \"/>\n",
       "<polyline clip-path=\"url(#clip00)\" style=\"stroke:#000000; stroke-width:1; stroke-opacity:1; fill:none\" points=\"\n",
       "  453.944,376.378 453.944,370.85 \n",
       "  \"/>\n",
       "<polyline clip-path=\"url(#clip00)\" style=\"stroke:#000000; stroke-width:1; stroke-opacity:1; fill:none\" points=\"\n",
       "  39.3701,376.378 39.3701,7.87402 \n",
       "  \"/>\n",
       "<polyline clip-path=\"url(#clip00)\" style=\"stroke:#000000; stroke-width:1; stroke-opacity:1; fill:none\" points=\"\n",
       "  39.3701,284.312 47.6614,284.312 \n",
       "  \"/>\n",
       "<polyline clip-path=\"url(#clip00)\" style=\"stroke:#000000; stroke-width:1; stroke-opacity:1; fill:none\" points=\"\n",
       "  39.3701,143.791 47.6614,143.791 \n",
       "  \"/>\n",
       "<g clip-path=\"url(#clip00)\">\n",
       "<text style=\"fill:#000000; fill-opacity:1; font-family:Arial,Helvetica Neue,Helvetica,sans-serif; font-size:12; text-anchor:middle;\" transform=\"rotate(0, 177.552, 390.178)\" x=\"177.552\" y=\"390.178\">-0.5</text>\n",
       "</g>\n",
       "<g clip-path=\"url(#clip00)\">\n",
       "<text style=\"fill:#000000; fill-opacity:1; font-family:Arial,Helvetica Neue,Helvetica,sans-serif; font-size:12; text-anchor:middle;\" transform=\"rotate(0, 315.748, 390.178)\" x=\"315.748\" y=\"390.178\">0.0</text>\n",
       "</g>\n",
       "<g clip-path=\"url(#clip00)\">\n",
       "<text style=\"fill:#000000; fill-opacity:1; font-family:Arial,Helvetica Neue,Helvetica,sans-serif; font-size:12; text-anchor:middle;\" transform=\"rotate(0, 453.944, 390.178)\" x=\"453.944\" y=\"390.178\">0.5</text>\n",
       "</g>\n",
       "<g clip-path=\"url(#clip00)\">\n",
       "<text style=\"fill:#000000; fill-opacity:1; font-family:Arial,Helvetica Neue,Helvetica,sans-serif; font-size:12; text-anchor:end;\" transform=\"rotate(0, 33.3701, 288.812)\" x=\"33.3701\" y=\"288.812\">0.50</text>\n",
       "</g>\n",
       "<g clip-path=\"url(#clip00)\">\n",
       "<text style=\"fill:#000000; fill-opacity:1; font-family:Arial,Helvetica Neue,Helvetica,sans-serif; font-size:12; text-anchor:end;\" transform=\"rotate(0, 33.3701, 148.291)\" x=\"33.3701\" y=\"148.291\">0.75</text>\n",
       "</g>\n",
       "<polyline clip-path=\"url(#clip02)\" style=\"stroke:#009af9; stroke-width:1; stroke-opacity:1; fill:none\" points=\"\n",
       "  592.126,376.378 592.008,376.363 591.772,376.333 591.418,376.288 590.946,376.227 590.357,376.152 589.65,376.061 588.827,375.955 587.886,375.835 586.83,375.698 \n",
       "  585.658,375.547 584.37,375.38 582.968,375.198 581.451,375 579.821,374.787 578.078,374.558 576.224,374.314 574.258,374.054 572.181,373.778 569.995,373.486 \n",
       "  567.7,373.178 565.298,372.854 562.789,372.513 560.175,372.157 557.456,371.783 554.634,371.394 551.71,370.987 548.685,370.564 545.56,370.123 542.338,369.666 \n",
       "  539.018,369.191 535.603,368.698 532.095,368.188 528.494,367.661 524.802,367.115 521.02,366.551 517.151,365.968 513.196,365.367 509.157,364.747 505.035,364.108 \n",
       "  500.832,363.45 496.55,362.772 492.191,362.074 487.757,361.357 483.249,360.619 478.669,359.861 474.02,359.081 469.304,358.281 464.521,357.459 459.675,356.616 \n",
       "  454.768,355.751 449.801,354.863 444.777,353.952 439.698,353.019 434.566,352.062 429.383,351.081 424.152,350.077 418.874,349.047 413.553,347.993 408.189,346.914 \n",
       "  402.786,345.808 397.346,344.677 391.871,343.519 386.364,342.334 380.826,341.121 375.26,339.88 369.67,338.61 364.056,337.312 358.421,335.983 352.768,334.625 \n",
       "  347.1,333.235 341.418,331.815 335.725,330.362 330.023,328.877 324.316,327.358 318.604,325.806 312.892,324.219 307.181,322.596 301.473,320.938 295.771,319.243 \n",
       "  290.078,317.51 284.396,315.74 278.728,313.929 273.075,312.08 267.44,310.189 261.826,308.256 256.236,306.281 250.67,304.263 245.132,302.2 239.625,300.091 \n",
       "  234.15,297.936 228.71,295.733 223.307,293.482 217.943,291.181 212.622,288.829 207.344,286.425 202.113,283.967 196.93,281.455 191.798,278.887 186.719,276.262 \n",
       "  181.695,273.579 176.728,270.835 171.821,268.03 166.975,265.161 162.192,262.229 157.476,259.23 152.827,256.163 148.247,253.027 143.739,249.819 139.305,246.539 \n",
       "  134.946,243.184 130.664,239.751 126.461,236.24 122.339,232.649 118.3,228.974 114.345,225.214 110.476,221.367 106.694,217.43 103.002,213.401 99.4013,209.278 \n",
       "  95.8927,205.058 92.4779,200.738 89.1585,196.316 85.9359,191.789 82.8115,187.154 79.7865,182.408 76.8624,177.548 74.0403,172.571 71.3215,167.474 68.707,162.253 \n",
       "  66.1981,156.906 63.7958,151.427 61.5011,145.815 59.3151,140.064 57.2385,134.172 55.2724,128.134 53.4176,121.945 51.6748,115.603 50.0448,109.102 48.5283,102.437 \n",
       "  47.126,95.6048 45.8384,88.5996 44.6661,81.4168 43.6096,74.0511 42.6694,66.4974 41.8458,58.75 41.1392,50.8035 40.5499,42.652 40.0782,34.2895 39.7242,25.71 \n",
       "  39.4881,16.907 39.3701,7.87402 \n",
       "  \"/>\n",
       "<polygon clip-path=\"url(#clip00)\" points=\"\n",
       "501.61,58.994 574.126,58.994 574.126,28.754 501.61,28.754 \n",
       "  \" fill=\"#ffffff\" fill-opacity=\"1\"/>\n",
       "<polyline clip-path=\"url(#clip00)\" style=\"stroke:#000000; stroke-width:1; stroke-opacity:1; fill:none\" points=\"\n",
       "  501.61,58.994 574.126,58.994 574.126,28.754 501.61,28.754 501.61,58.994 \n",
       "  \"/>\n",
       "<polyline clip-path=\"url(#clip00)\" style=\"stroke:#009af9; stroke-width:1; stroke-opacity:1; fill:none\" points=\"\n",
       "  507.61,43.874 543.61,43.874 \n",
       "  \"/>\n",
       "<g clip-path=\"url(#clip00)\">\n",
       "<text style=\"fill:#000000; fill-opacity:1; font-family:Arial,Helvetica Neue,Helvetica,sans-serif; font-size:12; text-anchor:start;\" transform=\"rotate(0, 549.61, 48.374)\" x=\"549.61\" y=\"48.374\">y1</text>\n",
       "</g>\n",
       "</svg>\n"
      ]
     },
     "execution_count": 2,
     "metadata": {},
     "output_type": "execute_result"
    }
   ],
   "source": [
    "S  = Legendre() ⊕ JacobiWeight(0.5,0.,Ultraspherical(1))\n",
    "Q½ = LeftIntegral(S,0.5)\n",
    "\n",
    "y = (I+Q½)\\1\n",
    "plot(y)"
   ]
  },
  {
   "cell_type": "markdown",
   "metadata": {},
   "source": [
    "We can compare with the exact solution:"
   ]
  },
  {
   "cell_type": "code",
   "execution_count": 3,
   "metadata": {},
   "outputs": [
    {
     "data": {
      "text/plain": [
       "4.362952435814733e-15"
      ]
     },
     "execution_count": 3,
     "metadata": {},
     "output_type": "execute_result"
    }
   ],
   "source": [
    "x=Fun()\n",
    "norm(exp(1+x)*erfc(sqrt(1+x))-y)"
   ]
  },
  {
   "cell_type": "markdown",
   "metadata": {},
   "source": [
    "##### Example 2\n",
    "\n",
    "$$y + e^{-{1+x \\over 2}} {}_{-1}Q_x^{1/2}[e^{1+x \\over 2} y] = e^{-{1+x \\over 2}}$$"
   ]
  },
  {
   "cell_type": "code",
   "execution_count": 4,
   "metadata": {},
   "outputs": [
    {
     "data": {
      "text/html": [
       "<?xml version=\"1.0\" encoding=\"utf-8\"?>\n",
       "<svg xmlns=\"http://www.w3.org/2000/svg\" xmlns:xlink=\"http://www.w3.org/1999/xlink\" width=\"600\" height=\"400\" viewBox=\"0 0 600 400\">\n",
       "<defs>\n",
       "  <clipPath id=\"clip00\">\n",
       "    <rect x=\"0\" y=\"0\" width=\"600\" height=\"400\"/>\n",
       "  </clipPath>\n",
       "</defs>\n",
       "<polygon clip-path=\"url(#clip00)\" points=\"\n",
       "0,400 600,400 600,0 0,0 \n",
       "  \" fill=\"#ffffff\" fill-opacity=\"1\"/>\n",
       "<defs>\n",
       "  <clipPath id=\"clip01\">\n",
       "    <rect x=\"120\" y=\"0\" width=\"421\" height=\"400\"/>\n",
       "  </clipPath>\n",
       "</defs>\n",
       "<polygon clip-path=\"url(#clip00)\" points=\"\n",
       "39.3701,376.378 592.126,376.378 592.126,7.87402 39.3701,7.87402 \n",
       "  \" fill=\"#ffffff\" fill-opacity=\"1\"/>\n",
       "<defs>\n",
       "  <clipPath id=\"clip02\">\n",
       "    <rect x=\"39\" y=\"7\" width=\"554\" height=\"370\"/>\n",
       "  </clipPath>\n",
       "</defs>\n",
       "<polyline clip-path=\"url(#clip02)\" style=\"stroke:#000000; stroke-width:1; stroke-opacity:0.5; fill:none\" stroke-dasharray=\"1, 2\" points=\"\n",
       "  177.557,370.85 177.557,13.4016 \n",
       "  \"/>\n",
       "<polyline clip-path=\"url(#clip02)\" style=\"stroke:#000000; stroke-width:1; stroke-opacity:0.5; fill:none\" stroke-dasharray=\"1, 2\" points=\"\n",
       "  315.748,370.85 315.748,13.4016 \n",
       "  \"/>\n",
       "<polyline clip-path=\"url(#clip02)\" style=\"stroke:#000000; stroke-width:1; stroke-opacity:0.5; fill:none\" stroke-dasharray=\"1, 2\" points=\"\n",
       "  453.939,370.85 453.939,13.4016 \n",
       "  \"/>\n",
       "<polyline clip-path=\"url(#clip02)\" style=\"stroke:#000000; stroke-width:1; stroke-opacity:0.5; fill:none\" stroke-dasharray=\"1, 2\" points=\"\n",
       "  47.6614,323.01 583.835,323.01 \n",
       "  \"/>\n",
       "<polyline clip-path=\"url(#clip02)\" style=\"stroke:#000000; stroke-width:1; stroke-opacity:0.5; fill:none\" stroke-dasharray=\"1, 2\" points=\"\n",
       "  47.6614,217.387 583.835,217.387 \n",
       "  \"/>\n",
       "<polyline clip-path=\"url(#clip02)\" style=\"stroke:#000000; stroke-width:1; stroke-opacity:0.5; fill:none\" stroke-dasharray=\"1, 2\" points=\"\n",
       "  47.6614,111.764 583.835,111.764 \n",
       "  \"/>\n",
       "<polyline clip-path=\"url(#clip00)\" style=\"stroke:#000000; stroke-width:1; stroke-opacity:1; fill:none\" points=\"\n",
       "  39.3701,376.378 592.126,376.378 \n",
       "  \"/>\n",
       "<polyline clip-path=\"url(#clip00)\" style=\"stroke:#000000; stroke-width:1; stroke-opacity:1; fill:none\" points=\"\n",
       "  177.557,376.378 177.557,370.85 \n",
       "  \"/>\n",
       "<polyline clip-path=\"url(#clip00)\" style=\"stroke:#000000; stroke-width:1; stroke-opacity:1; fill:none\" points=\"\n",
       "  315.748,376.378 315.748,370.85 \n",
       "  \"/>\n",
       "<polyline clip-path=\"url(#clip00)\" style=\"stroke:#000000; stroke-width:1; stroke-opacity:1; fill:none\" points=\"\n",
       "  453.939,376.378 453.939,370.85 \n",
       "  \"/>\n",
       "<polyline clip-path=\"url(#clip00)\" style=\"stroke:#000000; stroke-width:1; stroke-opacity:1; fill:none\" points=\"\n",
       "  39.3701,376.378 39.3701,7.87402 \n",
       "  \"/>\n",
       "<polyline clip-path=\"url(#clip00)\" style=\"stroke:#000000; stroke-width:1; stroke-opacity:1; fill:none\" points=\"\n",
       "  39.3701,323.01 47.6614,323.01 \n",
       "  \"/>\n",
       "<polyline clip-path=\"url(#clip00)\" style=\"stroke:#000000; stroke-width:1; stroke-opacity:1; fill:none\" points=\"\n",
       "  39.3701,217.387 47.6614,217.387 \n",
       "  \"/>\n",
       "<polyline clip-path=\"url(#clip00)\" style=\"stroke:#000000; stroke-width:1; stroke-opacity:1; fill:none\" points=\"\n",
       "  39.3701,111.764 47.6614,111.764 \n",
       "  \"/>\n",
       "<g clip-path=\"url(#clip00)\">\n",
       "<text style=\"fill:#000000; fill-opacity:1; font-family:Arial,Helvetica Neue,Helvetica,sans-serif; font-size:12; text-anchor:middle;\" transform=\"rotate(0, 177.557, 390.178)\" x=\"177.557\" y=\"390.178\">-0.5</text>\n",
       "</g>\n",
       "<g clip-path=\"url(#clip00)\">\n",
       "<text style=\"fill:#000000; fill-opacity:1; font-family:Arial,Helvetica Neue,Helvetica,sans-serif; font-size:12; text-anchor:middle;\" transform=\"rotate(0, 315.748, 390.178)\" x=\"315.748\" y=\"390.178\">0.0</text>\n",
       "</g>\n",
       "<g clip-path=\"url(#clip00)\">\n",
       "<text style=\"fill:#000000; fill-opacity:1; font-family:Arial,Helvetica Neue,Helvetica,sans-serif; font-size:12; text-anchor:middle;\" transform=\"rotate(0, 453.939, 390.178)\" x=\"453.939\" y=\"390.178\">0.5</text>\n",
       "</g>\n",
       "<g clip-path=\"url(#clip00)\">\n",
       "<text style=\"fill:#000000; fill-opacity:1; font-family:Arial,Helvetica Neue,Helvetica,sans-serif; font-size:12; text-anchor:end;\" transform=\"rotate(0, 33.3701, 327.51)\" x=\"33.3701\" y=\"327.51\">0.25</text>\n",
       "</g>\n",
       "<g clip-path=\"url(#clip00)\">\n",
       "<text style=\"fill:#000000; fill-opacity:1; font-family:Arial,Helvetica Neue,Helvetica,sans-serif; font-size:12; text-anchor:end;\" transform=\"rotate(0, 33.3701, 221.887)\" x=\"33.3701\" y=\"221.887\">0.50</text>\n",
       "</g>\n",
       "<g clip-path=\"url(#clip00)\">\n",
       "<text style=\"fill:#000000; fill-opacity:1; font-family:Arial,Helvetica Neue,Helvetica,sans-serif; font-size:12; text-anchor:end;\" transform=\"rotate(0, 33.3701, 116.264)\" x=\"33.3701\" y=\"116.264\">0.75</text>\n",
       "</g>\n",
       "<polyline clip-path=\"url(#clip02)\" style=\"stroke:#009af9; stroke-width:1; stroke-opacity:1; fill:none\" points=\"\n",
       "  592.126,376.378 592.097,376.374 592.038,376.367 591.95,376.355 591.833,376.34 591.686,376.321 591.51,376.298 591.305,376.271 591.071,376.241 590.808,376.206 \n",
       "  590.515,376.168 590.193,376.126 589.842,376.08 589.462,376.031 589.053,375.977 588.615,375.92 588.148,375.859 587.652,375.793 587.127,375.724 586.573,375.651 \n",
       "  585.991,375.574 585.38,375.494 584.74,375.409 584.072,375.32 583.376,375.228 582.651,375.131 581.897,375.03 581.116,374.926 580.306,374.817 579.468,374.704 \n",
       "  578.603,374.588 577.709,374.467 576.787,374.342 575.838,374.213 574.862,374.08 573.857,373.943 572.826,373.801 571.767,373.656 570.681,373.506 569.568,373.352 \n",
       "  568.428,373.193 567.261,373.031 566.067,372.864 564.847,372.693 563.601,372.517 562.328,372.338 561.029,372.153 559.704,371.965 558.353,371.771 556.977,371.574 \n",
       "  555.575,371.372 554.147,371.165 552.694,370.954 551.216,370.738 549.713,370.518 548.185,370.293 546.633,370.063 545.056,369.828 543.454,369.589 541.829,369.345 \n",
       "  540.179,369.096 538.506,368.843 536.809,368.584 535.089,368.321 533.345,368.052 531.578,367.779 529.788,367.5 527.976,367.217 526.141,366.928 524.284,366.634 \n",
       "  522.405,366.335 520.503,366.031 518.58,365.722 516.636,365.407 514.67,365.087 512.683,364.761 510.675,364.43 508.647,364.093 506.598,363.751 504.529,363.404 \n",
       "  502.44,363.05 500.331,362.691 498.202,362.327 496.054,361.956 493.887,361.58 491.701,361.198 489.496,360.81 487.273,360.416 485.032,360.015 482.773,359.609 \n",
       "  480.496,359.197 478.201,358.779 475.889,358.354 473.561,357.923 471.215,357.485 468.853,357.042 466.475,356.591 464.081,356.135 461.671,355.671 459.246,355.201 \n",
       "  456.805,354.725 454.35,354.241 451.879,353.751 449.395,353.254 446.896,352.75 444.383,352.239 441.856,351.721 439.317,351.196 436.764,350.664 434.198,350.124 \n",
       "  431.619,349.577 429.029,349.023 426.426,348.461 423.812,347.892 421.186,347.315 418.549,346.73 415.901,346.138 413.242,345.538 410.573,344.93 407.894,344.315 \n",
       "  405.206,343.691 402.507,343.059 399.8,342.419 397.083,341.771 394.358,341.114 391.625,340.45 388.884,339.776 386.134,339.095 383.378,338.404 380.614,337.705 \n",
       "  377.843,336.998 375.066,336.281 372.282,335.556 369.493,334.822 366.698,334.078 363.897,333.326 361.091,332.564 358.281,331.793 355.465,331.013 352.646,330.223 \n",
       "  349.823,329.424 346.996,328.615 344.166,327.797 341.333,326.969 338.497,326.131 335.658,325.283 332.818,324.425 329.976,323.557 327.132,322.679 324.287,321.79 \n",
       "  321.441,320.892 318.595,319.983 315.748,319.063 312.901,318.133 310.055,317.192 307.209,316.24 304.364,315.278 301.52,314.305 298.678,313.32 295.838,312.325 \n",
       "  292.999,311.318 290.163,310.301 287.33,309.271 284.5,308.231 281.673,307.179 278.85,306.115 276.031,305.039 273.216,303.952 270.405,302.853 267.599,301.742 \n",
       "  264.798,300.619 262.003,299.484 259.214,298.336 256.43,297.177 253.653,296.005 250.882,294.82 248.118,293.623 245.362,292.413 242.612,291.19 239.871,289.955 \n",
       "  237.138,288.707 234.413,287.446 231.696,286.171 228.989,284.884 226.291,283.583 223.602,282.269 220.923,280.941 218.254,279.6 215.595,278.245 212.947,276.877 \n",
       "  210.31,275.495 207.684,274.098 205.07,272.688 202.467,271.264 199.877,269.826 197.298,268.374 194.732,266.907 192.18,265.426 189.64,263.93 187.113,262.42 \n",
       "  184.6,260.896 182.102,259.356 179.617,257.802 177.147,256.233 174.691,254.649 172.25,253.049 169.825,251.435 167.415,249.806 165.021,248.161 162.643,246.501 \n",
       "  160.281,244.825 157.935,243.134 155.607,241.427 153.295,239.704 151.001,237.966 148.724,236.212 146.464,234.442 144.223,232.656 142,230.854 139.795,229.035 \n",
       "  137.609,227.201 135.442,225.35 133.294,223.483 131.166,221.599 129.056,219.699 126.967,217.782 124.898,215.848 122.849,213.897 120.821,211.93 118.813,209.946 \n",
       "  116.826,207.945 114.86,205.927 112.916,203.891 110.993,201.839 109.091,199.769 107.212,197.682 105.355,195.577 103.52,193.455 101.708,191.315 99.918,189.158 \n",
       "  98.1512,186.983 96.4076,184.79 94.6872,182.579 92.9902,180.351 91.3169,178.104 89.6674,175.839 88.0419,173.557 86.4406,171.256 84.8635,168.937 83.311,166.599 \n",
       "  81.7831,164.243 80.2801,161.869 78.802,159.476 77.3491,157.065 75.9215,154.635 74.5193,152.186 73.1427,149.719 71.7918,147.232 70.4669,144.727 69.1679,142.203 \n",
       "  67.8951,139.659 66.6486,137.097 65.4286,134.516 64.2351,131.915 63.0682,129.295 61.9282,126.655 60.8152,123.996 59.7291,121.318 58.6702,118.62 57.6386,115.902 \n",
       "  56.6344,113.165 55.6577,110.408 54.7086,107.631 53.7871,104.834 52.8935,102.017 52.0277,99.1806 51.19,96.3237 50.3803,93.4466 49.5987,90.5493 48.8454,87.6316 \n",
       "  48.1204,84.6936 47.4238,81.7352 46.7556,78.7562 46.1161,75.7566 45.5051,72.7363 44.9227,69.6954 44.3692,66.6336 43.8444,63.5509 43.3484,60.4472 42.8814,57.3225 \n",
       "  42.4433,54.1767 42.0342,51.0098 41.6541,47.8215 41.3031,44.6119 40.9813,41.3809 40.6886,38.1284 40.425,34.8542 40.1907,31.5584 39.9856,28.2409 39.8098,24.9015 \n",
       "  39.6633,21.5402 39.546,18.1569 39.458,14.7515 39.3994,11.3239 39.3701,7.87402 \n",
       "  \"/>\n",
       "<polygon clip-path=\"url(#clip00)\" points=\"\n",
       "501.61,58.994 574.126,58.994 574.126,28.754 501.61,28.754 \n",
       "  \" fill=\"#ffffff\" fill-opacity=\"1\"/>\n",
       "<polyline clip-path=\"url(#clip00)\" style=\"stroke:#000000; stroke-width:1; stroke-opacity:1; fill:none\" points=\"\n",
       "  501.61,58.994 574.126,58.994 574.126,28.754 501.61,28.754 501.61,58.994 \n",
       "  \"/>\n",
       "<polyline clip-path=\"url(#clip00)\" style=\"stroke:#009af9; stroke-width:1; stroke-opacity:1; fill:none\" points=\"\n",
       "  507.61,43.874 543.61,43.874 \n",
       "  \"/>\n",
       "<g clip-path=\"url(#clip00)\">\n",
       "<text style=\"fill:#000000; fill-opacity:1; font-family:Arial,Helvetica Neue,Helvetica,sans-serif; font-size:12; text-anchor:start;\" transform=\"rotate(0, 549.61, 48.374)\" x=\"549.61\" y=\"48.374\">y1</text>\n",
       "</g>\n",
       "</svg>\n"
      ]
     },
     "execution_count": 4,
     "metadata": {},
     "output_type": "execute_result"
    }
   ],
   "source": [
    "S = Legendre() ⊕ JacobiWeight(0.5,0.,Ultraspherical(1))\n",
    "x = Fun()\n",
    "Q½= LeftIntegral(S,0.5)\n",
    "\n",
    "y = (I+exp(-(1+x)/2)*Q½[exp((1+x)/2)])\\exp(-(1+x)/2)\n",
    "plot(y)"
   ]
  },
  {
   "cell_type": "markdown",
   "metadata": {},
   "source": [
    "We can compare with the exact solution:"
   ]
  },
  {
   "cell_type": "code",
   "execution_count": 5,
   "metadata": {},
   "outputs": [
    {
     "data": {
      "text/plain": [
       "1.2656166857219425e-14"
      ]
     },
     "execution_count": 5,
     "metadata": {},
     "output_type": "execute_result"
    }
   ],
   "source": [
    "norm(y-exp((1+x)/2)*erfc(sqrt(1+x)))"
   ]
  }
 ],
 "metadata": {
  "anaconda-cloud": {},
  "kernelspec": {
   "display_name": "Julia 0.6.0",
   "language": "julia",
   "name": "julia-0.6"
  },
  "language_info": {
   "file_extension": ".jl",
   "mimetype": "application/julia",
   "name": "julia",
   "version": "0.6.0"
  }
 },
 "nbformat": 4,
 "nbformat_minor": 1
}
