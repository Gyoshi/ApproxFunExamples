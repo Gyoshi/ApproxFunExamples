{
 "cells": [
  {
   "cell_type": "markdown",
   "metadata": {},
   "source": [
    "Consider the n-dimensional linear system of ordinary differential equations:\n",
    "$$x'(t)=A(t)x(t)$$\n",
    "where in addition, the matrix $A(t)$ is periodic with period $T$, i.e. $A(t+T)=A(t)$ for all real values of $t$.\n",
    "Let $Φ(t)$ denote the principal fundamental matrix solution such that the columns\n",
    "of $Φ(t)$ are linearly independent, and $Φ(0)=I$. Then, Floquet's theorem decomposes the principal\n",
    "fundamental matrix as the product of a periodic matrix $P(t)$ with period $T$ and an exponential matrix $e^{tB}$.\n",
    "\n"
   ]
  },
  {
   "cell_type": "code",
   "execution_count": 3,
   "metadata": {
    "scrolled": false
   },
   "outputs": [],
   "source": [
    "using Plots, ApproxFun"
   ]
  },
  {
   "cell_type": "code",
   "execution_count": 5,
   "metadata": {},
   "outputs": [],
   "source": [
    "function Base.exp(A::Matrix{T}, f::Fun) where {T<:Number}\n",
    "    D,V = eig(A)\n",
    "    fC = D == real(D) ? fill(f,n) : fill(f+0im,n)\n",
    "    for i = 1:length(D)\n",
    "        fC[i] = Fun(t->exp(D[i]*fC[i](t)),domain(f))\n",
    "    end\n",
    "    V*diagm(fC)*inv(V)\n",
    "end;"
   ]
  },
  {
   "cell_type": "markdown",
   "metadata": {},
   "source": [
    "Consider the system of coupled harmonic oscillators with periodic parameterized excitation:\n",
    "     $$x'' + (1+a \\cos(2t))x = x-y$$\n",
    "     $$y'' + (1+a \\cos(2t))y = y-x$$\n",
    "We calculate the Principal Fundamental Matrix $Φ$."
   ]
  },
  {
   "cell_type": "code",
   "execution_count": 17,
   "metadata": {
    "scrolled": false
   },
   "outputs": [],
   "source": [
    "T = π; a=0.15\n",
    "t = Fun(identity,0..T)\n",
    "d=domain(t)\n",
    "D=Derivative(d)\n",
    "B=ldirichlet(d)\n",
    "n=4\n",
    "A=[ Operator(Diagonal(fill(ldirichlet(d),n)));\n",
    "    D             -I  0I            0I;\n",
    "   (2+a*cos(2t))   D  -I            0I;\n",
    "   0I             0I   D            -I;\n",
    "   -I             0I  (2+a*cos(2t))  D]\n",
    "\n",
    "# we need eye(n) for the initial condition and zeros(n,n) for the\n",
    "# right-hand side of the ODE\n",
    "\n",
    "Φ = A\\Matrix(1.0I,2n,n);  "
   ]
  },
  {
   "cell_type": "markdown",
   "metadata": {},
   "source": [
    "It can be further expressed as $Φ(t) = P(t) e^{tB}$ where $P(t)$ is a periodic matrix, and $B$ is constant.\n",
    "Using the values of $Φ(T)$:"
   ]
  },
  {
   "cell_type": "code",
   "execution_count": 18,
   "metadata": {},
   "outputs": [
    {
     "data": {
      "text/plain": [
       "4×4 Array{Float64,2}:\n",
       " 0.0  0.0  0.0  0.0\n",
       " 0.0  0.0  0.0  0.0\n",
       " 0.0  0.0  0.0  0.0\n",
       " 0.0  0.0  0.0  0.0"
      ]
     },
     "execution_count": 18,
     "metadata": {},
     "output_type": "execute_result"
    }
   ],
   "source": [
    "ΦT = Φ(T)"
   ]
  },
  {
   "cell_type": "markdown",
   "metadata": {},
   "source": [
    "we calculate the matrix $B$ and the Floquet exponents and multipliers."
   ]
  },
  {
   "cell_type": "code",
   "execution_count": 11,
   "metadata": {
    "scrolled": false
   },
   "outputs": [
    {
     "ename": "UndefVarError",
     "evalue": "UndefVarError: eig not defined",
     "output_type": "error",
     "traceback": [
      "UndefVarError: eig not defined",
      "",
      "Stacktrace:",
      " [1] top-level scope at In[11]:2"
     ]
    }
   ],
   "source": [
    "B = log(ΦT)/T\n",
    "D,V = eigvals(B)\n",
    "\n",
    "println(\"Floquet Exponents = \\n\")\n",
    "[println(D[i]) for i=1:n]\n",
    "println(\"\\nFloquet Multipliers = \\n\")\n",
    "[println(exp(D[i]*T)) for i=1:n];"
   ]
  },
  {
   "cell_type": "markdown",
   "metadata": {},
   "source": [
    "We can build the matrix exponential $e^{-tB}$ and use it to find the periodic matrix $P(t)$.\n",
    "Periodicity is numerically confirmed by `Fun` instantiation with low number of coefficients."
   ]
  },
  {
   "cell_type": "code",
   "execution_count": 6,
   "metadata": {},
   "outputs": [
    {
     "data": {
      "text/plain": [
       "223"
      ]
     },
     "execution_count": 6,
     "metadata": {},
     "output_type": "execute_result"
    }
   ],
   "source": [
    "PI = Φ*expm(B,-t)\n",
    "P = Fun(t->PI(t),PeriodicInterval(d))\n",
    "P|>ncoefficients"
   ]
  },
  {
   "cell_type": "markdown",
   "metadata": {},
   "source": [
    "With the matrix B and the periodic matrix P(t), we can construct \n",
    "the solution with any initial conditions for as long as we want!"
   ]
  },
  {
   "cell_type": "code",
   "execution_count": 7,
   "metadata": {},
   "outputs": [
    {
     "data": {
      "text/html": [
       "<?xml version=\"1.0\" encoding=\"utf-8\"?>\n",
       "<svg xmlns=\"http://www.w3.org/2000/svg\" xmlns:xlink=\"http://www.w3.org/1999/xlink\" width=\"600\" height=\"400\" viewBox=\"0 0 600 400\">\n",
       "<defs>\n",
       "  <clipPath id=\"clip9600\">\n",
       "    <rect x=\"0\" y=\"0\" width=\"600\" height=\"400\"/>\n",
       "  </clipPath>\n",
       "</defs>\n",
       "<polygon clip-path=\"url(#clip9600)\" points=\"\n",
       "0,400 600,400 600,0 0,0 \n",
       "  \" fill=\"#ffffff\" fill-opacity=\"1\"/>\n",
       "<defs>\n",
       "  <clipPath id=\"clip9601\">\n",
       "    <rect x=\"120\" y=\"0\" width=\"421\" height=\"400\"/>\n",
       "  </clipPath>\n",
       "</defs>\n",
       "<polygon clip-path=\"url(#clip9600)\" points=\"\n",
       "39.502,375.869 580.315,375.869 580.315,11.811 39.502,11.811 \n",
       "  \" fill=\"#ffffff\" fill-opacity=\"1\"/>\n",
       "<defs>\n",
       "  <clipPath id=\"clip9602\">\n",
       "    <rect x=\"39\" y=\"11\" width=\"542\" height=\"365\"/>\n",
       "  </clipPath>\n",
       "</defs>\n",
       "<polyline clip-path=\"url(#clip9602)\" style=\"stroke:#000000; stroke-width:0.5; stroke-opacity:0.1; fill:none\" points=\"\n",
       "  88.9417,375.869 88.9417,11.811 \n",
       "  \"/>\n",
       "<polyline clip-path=\"url(#clip9602)\" style=\"stroke:#000000; stroke-width:0.5; stroke-opacity:0.1; fill:none\" points=\"\n",
       "  198.523,375.869 198.523,11.811 \n",
       "  \"/>\n",
       "<polyline clip-path=\"url(#clip9602)\" style=\"stroke:#000000; stroke-width:0.5; stroke-opacity:0.1; fill:none\" points=\"\n",
       "  308.104,375.869 308.104,11.811 \n",
       "  \"/>\n",
       "<polyline clip-path=\"url(#clip9602)\" style=\"stroke:#000000; stroke-width:0.5; stroke-opacity:0.1; fill:none\" points=\"\n",
       "  417.684,375.869 417.684,11.811 \n",
       "  \"/>\n",
       "<polyline clip-path=\"url(#clip9602)\" style=\"stroke:#000000; stroke-width:0.5; stroke-opacity:0.1; fill:none\" points=\"\n",
       "  527.265,375.869 527.265,11.811 \n",
       "  \"/>\n",
       "<polyline clip-path=\"url(#clip9602)\" style=\"stroke:#000000; stroke-width:0.5; stroke-opacity:0.1; fill:none\" points=\"\n",
       "  39.502,318.392 580.315,318.392 \n",
       "  \"/>\n",
       "<polyline clip-path=\"url(#clip9602)\" style=\"stroke:#000000; stroke-width:0.5; stroke-opacity:0.1; fill:none\" points=\"\n",
       "  39.502,255.547 580.315,255.547 \n",
       "  \"/>\n",
       "<polyline clip-path=\"url(#clip9602)\" style=\"stroke:#000000; stroke-width:0.5; stroke-opacity:0.1; fill:none\" points=\"\n",
       "  39.502,192.702 580.315,192.702 \n",
       "  \"/>\n",
       "<polyline clip-path=\"url(#clip9602)\" style=\"stroke:#000000; stroke-width:0.5; stroke-opacity:0.1; fill:none\" points=\"\n",
       "  39.502,129.857 580.315,129.857 \n",
       "  \"/>\n",
       "<polyline clip-path=\"url(#clip9602)\" style=\"stroke:#000000; stroke-width:0.5; stroke-opacity:0.1; fill:none\" points=\"\n",
       "  39.502,67.0125 580.315,67.0125 \n",
       "  \"/>\n",
       "<polyline clip-path=\"url(#clip9600)\" style=\"stroke:#000000; stroke-width:1; stroke-opacity:1; fill:none\" points=\"\n",
       "  39.502,375.869 580.315,375.869 \n",
       "  \"/>\n",
       "<polyline clip-path=\"url(#clip9600)\" style=\"stroke:#000000; stroke-width:1; stroke-opacity:1; fill:none\" points=\"\n",
       "  39.502,375.869 39.502,11.811 \n",
       "  \"/>\n",
       "<polyline clip-path=\"url(#clip9600)\" style=\"stroke:#000000; stroke-width:1; stroke-opacity:1; fill:none\" points=\"\n",
       "  88.9417,375.869 88.9417,370.408 \n",
       "  \"/>\n",
       "<polyline clip-path=\"url(#clip9600)\" style=\"stroke:#000000; stroke-width:1; stroke-opacity:1; fill:none\" points=\"\n",
       "  198.523,375.869 198.523,370.408 \n",
       "  \"/>\n",
       "<polyline clip-path=\"url(#clip9600)\" style=\"stroke:#000000; stroke-width:1; stroke-opacity:1; fill:none\" points=\"\n",
       "  308.104,375.869 308.104,370.408 \n",
       "  \"/>\n",
       "<polyline clip-path=\"url(#clip9600)\" style=\"stroke:#000000; stroke-width:1; stroke-opacity:1; fill:none\" points=\"\n",
       "  417.684,375.869 417.684,370.408 \n",
       "  \"/>\n",
       "<polyline clip-path=\"url(#clip9600)\" style=\"stroke:#000000; stroke-width:1; stroke-opacity:1; fill:none\" points=\"\n",
       "  527.265,375.869 527.265,370.408 \n",
       "  \"/>\n",
       "<polyline clip-path=\"url(#clip9600)\" style=\"stroke:#000000; stroke-width:1; stroke-opacity:1; fill:none\" points=\"\n",
       "  39.502,318.392 47.6142,318.392 \n",
       "  \"/>\n",
       "<polyline clip-path=\"url(#clip9600)\" style=\"stroke:#000000; stroke-width:1; stroke-opacity:1; fill:none\" points=\"\n",
       "  39.502,255.547 47.6142,255.547 \n",
       "  \"/>\n",
       "<polyline clip-path=\"url(#clip9600)\" style=\"stroke:#000000; stroke-width:1; stroke-opacity:1; fill:none\" points=\"\n",
       "  39.502,192.702 47.6142,192.702 \n",
       "  \"/>\n",
       "<polyline clip-path=\"url(#clip9600)\" style=\"stroke:#000000; stroke-width:1; stroke-opacity:1; fill:none\" points=\"\n",
       "  39.502,129.857 47.6142,129.857 \n",
       "  \"/>\n",
       "<polyline clip-path=\"url(#clip9600)\" style=\"stroke:#000000; stroke-width:1; stroke-opacity:1; fill:none\" points=\"\n",
       "  39.502,67.0125 47.6142,67.0125 \n",
       "  \"/>\n",
       "<g clip-path=\"url(#clip9600)\">\n",
       "<text style=\"fill:#000000; fill-opacity:1; font-family:Arial,Helvetica Neue,Helvetica,sans-serif; font-size:12; text-anchor:middle;\" transform=\"rotate(0, 88.9417, 389.669)\" x=\"88.9417\" y=\"389.669\">-4</text>\n",
       "</g>\n",
       "<g clip-path=\"url(#clip9600)\">\n",
       "<text style=\"fill:#000000; fill-opacity:1; font-family:Arial,Helvetica Neue,Helvetica,sans-serif; font-size:12; text-anchor:middle;\" transform=\"rotate(0, 198.523, 389.669)\" x=\"198.523\" y=\"389.669\">-2</text>\n",
       "</g>\n",
       "<g clip-path=\"url(#clip9600)\">\n",
       "<text style=\"fill:#000000; fill-opacity:1; font-family:Arial,Helvetica Neue,Helvetica,sans-serif; font-size:12; text-anchor:middle;\" transform=\"rotate(0, 308.104, 389.669)\" x=\"308.104\" y=\"389.669\">0</text>\n",
       "</g>\n",
       "<g clip-path=\"url(#clip9600)\">\n",
       "<text style=\"fill:#000000; fill-opacity:1; font-family:Arial,Helvetica Neue,Helvetica,sans-serif; font-size:12; text-anchor:middle;\" transform=\"rotate(0, 417.684, 389.669)\" x=\"417.684\" y=\"389.669\">2</text>\n",
       "</g>\n",
       "<g clip-path=\"url(#clip9600)\">\n",
       "<text style=\"fill:#000000; fill-opacity:1; font-family:Arial,Helvetica Neue,Helvetica,sans-serif; font-size:12; text-anchor:middle;\" transform=\"rotate(0, 527.265, 389.669)\" x=\"527.265\" y=\"389.669\">4</text>\n",
       "</g>\n",
       "<g clip-path=\"url(#clip9600)\">\n",
       "<text style=\"fill:#000000; fill-opacity:1; font-family:Arial,Helvetica Neue,Helvetica,sans-serif; font-size:12; text-anchor:end;\" transform=\"rotate(0, 33.502, 322.892)\" x=\"33.502\" y=\"322.892\">-0.6</text>\n",
       "</g>\n",
       "<g clip-path=\"url(#clip9600)\">\n",
       "<text style=\"fill:#000000; fill-opacity:1; font-family:Arial,Helvetica Neue,Helvetica,sans-serif; font-size:12; text-anchor:end;\" transform=\"rotate(0, 33.502, 260.047)\" x=\"33.502\" y=\"260.047\">-0.3</text>\n",
       "</g>\n",
       "<g clip-path=\"url(#clip9600)\">\n",
       "<text style=\"fill:#000000; fill-opacity:1; font-family:Arial,Helvetica Neue,Helvetica,sans-serif; font-size:12; text-anchor:end;\" transform=\"rotate(0, 33.502, 197.202)\" x=\"33.502\" y=\"197.202\">0.0</text>\n",
       "</g>\n",
       "<g clip-path=\"url(#clip9600)\">\n",
       "<text style=\"fill:#000000; fill-opacity:1; font-family:Arial,Helvetica Neue,Helvetica,sans-serif; font-size:12; text-anchor:end;\" transform=\"rotate(0, 33.502, 134.357)\" x=\"33.502\" y=\"134.357\">0.3</text>\n",
       "</g>\n",
       "<g clip-path=\"url(#clip9600)\">\n",
       "<text style=\"fill:#000000; fill-opacity:1; font-family:Arial,Helvetica Neue,Helvetica,sans-serif; font-size:12; text-anchor:end;\" transform=\"rotate(0, 33.502, 71.5125)\" x=\"33.502\" y=\"71.5125\">0.6</text>\n",
       "</g>\n",
       "<polyline clip-path=\"url(#clip9602)\" style=\"stroke:#009af9; stroke-width:1; stroke-opacity:1; fill:none\" points=\"\n",
       "  39.502,192.702 88.9773,192.702 118.71,192.702 143.848,192.702 171.156,192.702 196.331,192.702 223.321,192.702 254.592,192.702 268.487,192.702 282.382,192.702 \n",
       "  288.475,192.702 294.567,192.702 297.613,192.702 300.659,192.702 302.182,192.702 303.705,192.702 305.228,192.702 306.751,192.702 307.167,192.702 307.582,192.702 \n",
       "  307.789,192.702 307.997,192.702 308.204,140.182 308.412,139.849 308.62,139.516 308.827,139.184 309.035,138.852 309.242,138.52 309.657,137.858 310.073,137.198 \n",
       "  311.733,134.57 313.394,131.968 316.715,126.838 320.036,121.811 326.678,112.086 333.321,102.835 340.002,94.0721 346.684,85.9325 353.366,78.5161 360.048,71.9412 \n",
       "  367.435,65.8165 374.823,61.0967 382.21,58.0119 389.598,56.8068 393.112,56.9659 396.627,57.6336 400.141,58.8357 403.656,60.5967 407.17,62.9394 410.685,65.8844 \n",
       "  414.199,69.4492 417.714,73.6481 421.368,78.6976 425.022,84.4502 428.677,90.9062 432.331,98.0592 435.985,105.896 439.639,114.395 443.294,123.526 446.948,133.254 \n",
       "  453.1,150.844 459.253,169.72 465.405,189.549 471.557,209.953 479.068,235.029 486.579,259.534 494.091,282.663 501.602,303.662 505.132,312.603 508.663,320.865 \n",
       "  512.193,328.393 515.723,335.143 519.254,341.074 522.784,346.156 526.315,350.363 529.845,353.68 532.673,355.688 535.501,357.116 538.329,357.965 541.157,358.239 \n",
       "  543.985,357.943 546.813,357.086 549.641,355.677 552.469,353.73 558.125,348.275 563.781,340.852 569.436,331.618 575.092,320.746 576.833,317.1 578.574,313.323 \n",
       "  580.315,309.421 \n",
       "  \"/>\n",
       "<polyline clip-path=\"url(#clip9602)\" style=\"stroke:#e26f46; stroke-width:1; stroke-opacity:1; fill:none\" points=\"\n",
       "  39.502,192.702 88.9773,192.702 118.71,192.702 143.848,192.702 171.156,192.702 196.331,192.702 223.321,192.702 254.592,192.702 268.487,192.702 282.382,192.702 \n",
       "  288.475,192.702 294.567,192.702 297.613,192.702 300.659,192.702 302.182,192.702 303.705,192.702 305.228,192.702 306.751,192.702 307.167,192.702 307.582,192.702 \n",
       "  307.789,192.702 307.997,192.702 308.204,104.716 308.412,104.815 308.62,104.915 308.827,105.014 309.035,105.114 309.242,105.213 309.657,105.413 310.073,105.614 \n",
       "  311.733,106.422 313.394,107.24 316.715,108.914 320.036,110.65 326.678,114.366 333.321,118.518 340.002,123.277 346.684,128.774 353.366,135.163 360.048,142.599 \n",
       "  367.435,152.215 374.823,163.465 382.21,176.485 389.598,191.354 396.627,207.212 403.656,224.634 410.685,243.403 417.714,263.166 425.022,284.234 432.331,305.119 \n",
       "  439.639,324.958 446.948,342.794 450.024,349.463 453.1,355.529 456.176,360.924 459.253,365.582 462.329,369.443 465.405,372.453 468.481,374.565 471.557,375.742 \n",
       "  475.313,375.869 479.068,374.523 482.824,371.694 486.579,367.392 490.335,361.65 494.091,354.523 497.846,346.086 501.602,336.429 505.132,326.336 508.663,315.361 \n",
       "  512.193,303.61 515.723,291.195 522.784,264.838 529.845,237.209 541.157,192.467 552.469,149.832 558.125,130.097 563.781,111.755 569.436,95.0175 575.092,80.0676 \n",
       "  576.833,75.8515 578.574,71.8246 580.315,67.9912 \n",
       "  \"/>\n",
       "<polyline clip-path=\"url(#clip9602)\" style=\"stroke:#3da44d; stroke-width:1; stroke-opacity:1; fill:none\" points=\"\n",
       "  39.502,192.702 88.9773,192.702 118.71,192.702 143.848,192.702 171.156,192.702 196.331,192.702 223.321,192.702 254.592,192.702 268.487,192.702 282.382,192.702 \n",
       "  288.475,192.702 294.567,192.702 297.613,192.702 300.659,192.702 302.182,192.702 303.705,192.702 304.467,192.702 305.228,192.702 305.99,192.702 306.751,192.702 \n",
       "  307.167,192.702 307.582,192.702 307.789,192.702 307.997,192.702 308.204,105.969 308.412,105.285 308.62,104.603 308.827,103.922 309.035,103.244 309.242,102.567 \n",
       "  309.657,101.22 310.073,99.8816 311.733,94.6104 313.394,89.4793 316.715,79.6678 320.036,70.5036 323.357,62.0374 326.678,54.3135 329.999,47.369 333.321,41.2344 \n",
       "  336.661,35.9036 340.002,31.4315 343.343,27.8269 346.684,25.0914 350.025,23.2198 353.366,22.2008 356.707,22.0169 360.048,22.6454 363.741,24.2526 367.435,26.7761 \n",
       "  371.129,30.1674 374.823,34.3736 378.516,39.3386 382.21,45.0034 385.904,51.3072 389.598,58.1882 396.627,72.6518 403.656,88.5496 410.685,105.461 417.714,122.981 \n",
       "  432.331,159.726 446.948,194.423 453.1,207.816 459.253,220.287 465.405,231.738 471.557,242.105 479.068,253.25 486.579,262.751 494.091,270.687 501.602,277.193 \n",
       "  508.663,282.158 515.723,286.166 522.784,289.371 529.845,291.907 541.157,294.817 552.469,296.445 563.781,296.646 575.092,294.939 576.833,294.462 578.574,293.92 \n",
       "  580.315,293.309 \n",
       "  \"/>\n",
       "<polyline clip-path=\"url(#clip9602)\" style=\"stroke:#c271d2; stroke-width:1; stroke-opacity:1; fill:none\" points=\"\n",
       "  39.502,192.702 88.9773,192.702 118.71,192.702 143.848,192.702 171.156,192.702 196.331,192.702 223.321,192.702 254.592,192.702 268.487,192.702 282.382,192.702 \n",
       "  288.475,192.702 294.567,192.702 297.613,192.702 300.659,192.702 302.182,192.702 303.705,192.702 304.467,192.702 305.228,192.702 305.99,192.702 306.751,192.702 \n",
       "  307.167,192.702 307.582,192.702 307.789,192.702 307.997,192.702 308.204,11.811 308.412,12.3207 308.62,12.8346 308.827,13.3528 309.035,13.8753 309.242,14.4021 \n",
       "  309.657,15.4682 310.073,16.5511 311.733,21.0475 313.394,25.7998 316.715,36.0284 320.036,47.1433 326.678,71.6134 333.321,98.3123 340.002,126.459 346.684,154.947 \n",
       "  353.366,182.893 360.048,209.527 363.741,223.452 367.435,236.696 371.129,249.186 374.823,260.865 378.516,271.687 382.21,281.621 385.904,290.643 389.598,298.741 \n",
       "  393.112,305.584 396.627,311.589 400.141,316.761 403.656,321.112 407.17,324.656 410.685,327.411 414.199,329.395 417.714,330.632 421.368,331.149 425.022,330.914 \n",
       "  428.677,329.957 432.331,328.316 435.985,326.027 439.639,323.134 443.294,319.681 446.948,315.718 453.1,308.043 459.253,299.346 465.405,289.923 471.557,280.081 \n",
       "  479.068,267.943 486.579,256.161 494.091,245.184 501.602,235.348 508.663,227.316 515.723,220.502 522.784,214.82 529.845,210.074 541.157,203.671 552.469,197.39 \n",
       "  558.125,193.771 563.781,189.563 569.436,184.588 575.092,178.698 576.833,176.683 578.574,174.568 580.315,172.353 \n",
       "  \"/>\n",
       "<polygon clip-path=\"url(#clip9600)\" points=\"\n",
       "489.608,108.291 562.315,108.291 562.315,32.691 489.608,32.691 \n",
       "  \" fill=\"#ffffff\" fill-opacity=\"1\"/>\n",
       "<polyline clip-path=\"url(#clip9600)\" style=\"stroke:#000000; stroke-width:1; stroke-opacity:1; fill:none\" points=\"\n",
       "  489.608,108.291 562.315,108.291 562.315,32.691 489.608,32.691 489.608,108.291 \n",
       "  \"/>\n",
       "<polyline clip-path=\"url(#clip9600)\" style=\"stroke:#009af9; stroke-width:1; stroke-opacity:1; fill:none\" points=\"\n",
       "  495.608,47.811 531.608,47.811 \n",
       "  \"/>\n",
       "<g clip-path=\"url(#clip9600)\">\n",
       "<text style=\"fill:#000000; fill-opacity:1; font-family:Arial,Helvetica Neue,Helvetica,sans-serif; font-size:12; text-anchor:start;\" transform=\"rotate(0, 537.608, 52.311)\" x=\"537.608\" y=\"52.311\">y1</text>\n",
       "</g>\n",
       "<polyline clip-path=\"url(#clip9600)\" style=\"stroke:#e26f46; stroke-width:1; stroke-opacity:1; fill:none\" points=\"\n",
       "  495.608,62.931 531.608,62.931 \n",
       "  \"/>\n",
       "<g clip-path=\"url(#clip9600)\">\n",
       "<text style=\"fill:#000000; fill-opacity:1; font-family:Arial,Helvetica Neue,Helvetica,sans-serif; font-size:12; text-anchor:start;\" transform=\"rotate(0, 537.608, 67.431)\" x=\"537.608\" y=\"67.431\">y2</text>\n",
       "</g>\n",
       "<polyline clip-path=\"url(#clip9600)\" style=\"stroke:#3da44d; stroke-width:1; stroke-opacity:1; fill:none\" points=\"\n",
       "  495.608,78.051 531.608,78.051 \n",
       "  \"/>\n",
       "<g clip-path=\"url(#clip9600)\">\n",
       "<text style=\"fill:#000000; fill-opacity:1; font-family:Arial,Helvetica Neue,Helvetica,sans-serif; font-size:12; text-anchor:start;\" transform=\"rotate(0, 537.608, 82.551)\" x=\"537.608\" y=\"82.551\">y3</text>\n",
       "</g>\n",
       "<polyline clip-path=\"url(#clip9600)\" style=\"stroke:#c271d2; stroke-width:1; stroke-opacity:1; fill:none\" points=\"\n",
       "  495.608,93.171 531.608,93.171 \n",
       "  \"/>\n",
       "<g clip-path=\"url(#clip9600)\">\n",
       "<text style=\"fill:#000000; fill-opacity:1; font-family:Arial,Helvetica Neue,Helvetica,sans-serif; font-size:12; text-anchor:start;\" transform=\"rotate(0, 537.608, 97.671)\" x=\"537.608\" y=\"97.671\">y4</text>\n",
       "</g>\n",
       "</svg>\n"
      ]
     },
     "execution_count": 7,
     "metadata": {},
     "output_type": "execute_result"
    }
   ],
   "source": [
    "t = Fun(identity,0..10T)\n",
    "d = domain(t)\n",
    "x0 = rand(n)\n",
    "\n",
    "PI = Fun(t->P(t),d)\n",
    "xsol = real(PI*expm(B,t)*x0)\n",
    "\n",
    "plot(xsol)"
   ]
  }
 ],
 "metadata": {
  "anaconda-cloud": {},
  "kernelspec": {
   "display_name": "Julia 1.0.0",
   "language": "julia",
   "name": "julia-1.0"
  },
  "language_info": {
   "file_extension": ".jl",
   "mimetype": "application/julia",
   "name": "julia",
   "version": "1.0.0"
  }
 },
 "nbformat": 4,
 "nbformat_minor": 1
}
