{
 "cells": [
  {
   "cell_type": "code",
   "execution_count": null,
   "metadata": {},
   "outputs": [],
   "source": [
    "using Plots, ApproxFun"
   ]
  },
  {
   "cell_type": "markdown",
   "metadata": {},
   "source": [
    "# Piecewise function sampling"
   ]
  },
  {
   "cell_type": "code",
   "execution_count": null,
   "metadata": {},
   "outputs": [],
   "source": [
    "f = abs(Fun(sin,-5..5))\n",
    "r = ApproxFun.sample(f,10000)\n",
    "plot(f/sum(f))               \n",
    "histogram!(r;normed=true,nbins=100)"
   ]
  },
  {
   "cell_type": "markdown",
   "metadata": {},
   "source": [
    "# Jacobi singularity sampling"
   ]
  },
  {
   "cell_type": "code",
   "execution_count": null,
   "metadata": {},
   "outputs": [],
   "source": [
    "x=Fun(identity)\n",
    "f = exp(x)*sqrt(1-x^2)\n",
    "r = ApproxFun.sample(f,1000)\n",
    "plot(f/sum(f))                     \n",
    "histogram!(r;normed=true,nbins=100)"
   ]
  },
  {
   "cell_type": "code",
   "execution_count": null,
   "metadata": {},
   "outputs": [],
   "source": [
    "x=Fun(identity)\n",
    "f = exp(x)/sqrt(1-x^2)\n",
    "r = ApproxFun.sample(f,1000)\n",
    "plot(f/sum(f);ylims=(0.,5.))    \n",
    "histogram!(r;normed=true,nbins=100)"
   ]
  },
  {
   "cell_type": "code",
   "execution_count": null,
   "metadata": {},
   "outputs": [],
   "source": [
    "x=Fun(identity)\n",
    "f = exp(x)*(1-x)^0.123*(1+x)^(-0.234)\n",
    "r = ApproxFun.sample(f,1000)\n",
    "plot(f/sum(f))                         \n",
    "histogram!(r;normed=true,nbins=100)"
   ]
  },
  {
   "cell_type": "markdown",
   "metadata": {},
   "source": [
    "# Heavy-tail sampling"
   ]
  },
  {
   "cell_type": "code",
   "execution_count": null,
   "metadata": {
    "scrolled": false
   },
   "outputs": [],
   "source": [
    "x=Fun(-Inf..Inf)\n",
    "\n",
    "f=(1+sech.(x))/(1+x^2)\n",
    "r=ApproxFun.sample(f,10000)\n",
    "\n",
    "plot(-15.:.01:15.,f/sum(f))\n",
    "histogram!(filter!(r->abs(r)<15,r);normed=true,nbins=100)"
   ]
  },
  {
   "cell_type": "code",
   "execution_count": null,
   "metadata": {},
   "outputs": [],
   "source": [
    "x=Fun(0..Inf)\n",
    "\n",
    "f=(exp.(-x)+1)/(1+x^2)\n",
    "r=ApproxFun.sample(f,10000)\n",
    "\n",
    "plot(0:.05:15,f/sum(f))\n",
    "histogram!(filter!(r->0<r<15,r);normed=true,nbins=100)"
   ]
  }
 ],
 "metadata": {
  "anaconda-cloud": {},
  "kernelspec": {
   "display_name": "Julia 0.6.0",
   "language": "julia",
   "name": "julia-0.6"
  },
  "language_info": {
   "file_extension": ".jl",
   "mimetype": "application/julia",
   "name": "julia",
   "version": "0.5.2"
  }
 },
 "nbformat": 4,
 "nbformat_minor": 1
}
